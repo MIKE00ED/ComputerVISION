{
 "cells": [
  {
   "cell_type": "code",
   "execution_count": 1,
   "metadata": {},
   "outputs": [
    {
     "name": "stderr",
     "output_type": "stream",
     "text": [
      "C:\\Users\\MikeEd\\Anaconda3\\lib\\site-packages\\h5py\\__init__.py:36: FutureWarning: Conversion of the second argument of issubdtype from `float` to `np.floating` is deprecated. In future, it will be treated as `np.float64 == np.dtype(float).type`.\n",
      "  from ._conv import register_converters as _register_converters\n"
     ]
    },
    {
     "name": "stdout",
     "output_type": "stream",
     "text": [
      "Found 376 images belonging to 3 classes.\n",
      "Found 84 images belonging to 3 classes.\n"
     ]
    }
   ],
   "source": [
    "\n",
    "import tensorflow as tf\n",
    "import numpy as np\n",
    "from tensorflow.keras.preprocessing.image import ImageDataGenerator\n",
    "import distutils\n",
    "\n",
    "train_datagen = ImageDataGenerator(\n",
    "    rescale=1./255,\n",
    "    shear_range=0.2,\n",
    "    zoom_range=0.2,\n",
    "    horizontal_flip=True)\n",
    "\n",
    "test_datagen = ImageDataGenerator(rescale=1./255)\n",
    "train_generator = train_datagen.flow_from_directory(\n",
    "    'C:/Users/MikeEd/Deep-Learning-Push-Up-Counter-master/data/train',\n",
    "    target_size=(64, 64),\n",
    "    color_mode=\"rgb\",\n",
    "    batch_size=16,\n",
    "    class_mode='categorical',\n",
    "    shuffle=True,\n",
    "    seed=42)\n",
    "\n",
    "validation_generator = test_datagen.flow_from_directory(\n",
    "    'C:/Users/MikeEd/Deep-Learning-Push-Up-Counter-master/data/validation',\n",
    "    target_size=(64, 64),\n",
    "    batch_size=1,\n",
    "    class_mode='categorical')"
   ]
  },
  {
   "cell_type": "code",
   "execution_count": null,
   "metadata": {},
   "outputs": [],
   "source": []
  },
  {
   "cell_type": "code",
   "execution_count": 2,
   "metadata": {},
   "outputs": [],
   "source": [
    "def create_model():\n",
    "  model = tf.keras.models.Sequential()\n",
    "  #model.add(tf.keras.Input(shape=(64,64,3)))\n",
    "  #model.add(tf.keras.layers.BatchNormalization())\n",
    "  model.add(tf.keras.layers.Conv2D(6, (3, 3), padding='same', activation='relu',input_shape=(64,64,3)))\n",
    "  model.add(tf.keras.layers.MaxPooling2D(pool_size=(2,2)))\n",
    "  \n",
    "  model.add(tf.keras.layers.Conv2D(16, (3,3), padding='same', activation='relu'))\n",
    "  model.add(tf.keras.layers.MaxPooling2D(pool_size=(2, 2)))\n",
    "\n",
    "  #model.add(tf.keras.layers.BatchNormalization())\n",
    "  model.add(tf.keras.layers.Conv2D(32, (3,3), padding='same', activation='relu'))\n",
    "  model.add(tf.keras.layers.MaxPooling2D(pool_size=(2, 2), strides=(2,2)))\n",
    "\n",
    "  #model.add(tf.keras.layers.BatchNormalization())\n",
    "  model.add(tf.keras.layers.Conv2D(64, (3,3), padding='same', activation='relu'))\n",
    "  model.add(tf.keras.layers.MaxPooling2D(pool_size=(2, 2), strides=(2,2)))  \n",
    "\n",
    "  model.add(tf.keras.layers.Dropout(0.25))\n",
    "\n",
    "  model.add(tf.keras.layers.Flatten())\n",
    "  model.add(tf.keras.layers.Dense(512))\n",
    "  model.add(tf.keras.layers.Activation('relu'))\n",
    "  model.add(tf.keras.layers.Dropout(0.5))\n",
    "  model.add(tf.keras.layers.Dense(128))\n",
    "  model.add(tf.keras.layers.Activation('relu'))\n",
    "  model.add(tf.keras.layers.Dropout(0.5))\n",
    "  model.add(tf.keras.layers.Dense(64))\n",
    "  model.add(tf.keras.layers.Dropout(0.5))\n",
    "  model.add(tf.keras.layers.Dense(3))\n",
    "  model.add(tf.keras.layers.Activation('softmax'))\n",
    "  return model"
   ]
  },
  {
   "cell_type": "code",
   "execution_count": 21,
   "metadata": {},
   "outputs": [
    {
     "name": "stdout",
     "output_type": "stream",
     "text": [
      "WARNING:tensorflow:From C:\\Users\\MikeEd\\Anaconda3\\lib\\site-packages\\tensorflow\\python\\ops\\math_ops.py:3066: to_int32 (from tensorflow.python.ops.math_ops) is deprecated and will be removed in a future version.\n",
      "Instructions for updating:\n",
      "Use tf.cast instead.\n",
      "Epoch 1/10\n",
      "84/84 [==============================] - 5s 57ms/step - loss: 0.6824 - categorical_accuracy: 0.7619: 3s - loss: 0.8284 -  - ETA: 1s - loss: 0.6737 - cate - ETA: 1s\n",
      "24/24 [==============================] - 38s 2s/step - loss: 1.0125 - categorical_accuracy: 0.4574 - val_loss: 0.6824 - val_categorical_accuracy: 0.7619\n",
      "Epoch 2/10\n",
      "84/84 [==============================] - 2s 20ms/step - loss: 0.3403 - categorical_accuracy: 0.8333\n",
      "24/24 [==============================] - 20s 816ms/step - loss: 0.6197 - categorical_accuracy: 0.7686 - val_loss: 0.3403 - val_categorical_accuracy: 0.8333\n",
      "Epoch 3/10\n",
      "84/84 [==============================] - 3s 39ms/step - loss: 0.2910 - categorical_accuracy: 0.8929\n",
      "24/24 [==============================] - 22s 920ms/step - loss: 0.4693 - categorical_accuracy: 0.8537 - val_loss: 0.2910 - val_categorical_accuracy: 0.8929\n",
      "Epoch 4/10\n",
      "84/84 [==============================] - 2s 21ms/step - loss: 0.3716 - categorical_accuracy: 0.8690\n",
      "24/24 [==============================] - 20s 829ms/step - loss: 0.4058 - categorical_accuracy: 0.8617 - val_loss: 0.3716 - val_categorical_accuracy: 0.8690\n",
      "Epoch 5/10\n",
      "84/84 [==============================] - 2s 21ms/step - loss: 0.2548 - categorical_accuracy: 0.9405\n",
      "24/24 [==============================] - 17s 708ms/step - loss: 0.4110 - categorical_accuracy: 0.8511 - val_loss: 0.2548 - val_categorical_accuracy: 0.9405\n",
      "Epoch 6/10\n",
      "84/84 [==============================] - 2s 21ms/step - loss: 0.2415 - categorical_accuracy: 0.9167\n",
      "24/24 [==============================] - 18s 763ms/step - loss: 0.3746 - categorical_accuracy: 0.8883 - val_loss: 0.2415 - val_categorical_accuracy: 0.9167\n",
      "Epoch 7/10\n",
      "84/84 [==============================] - 2s 18ms/step - loss: 0.2768 - categorical_accuracy: 0.9405\n",
      "24/24 [==============================] - 18s 737ms/step - loss: 0.4116 - categorical_accuracy: 0.8564 - val_loss: 0.2768 - val_categorical_accuracy: 0.9405\n",
      "Epoch 8/10\n",
      "84/84 [==============================] - 2s 18ms/step - loss: 0.2368 - categorical_accuracy: 0.9167 0s - loss: 0.2551 - categorica\n",
      "24/24 [==============================] - 17s 694ms/step - loss: 0.3656 - categorical_accuracy: 0.8910 - val_loss: 0.2368 - val_categorical_accuracy: 0.9167\n",
      "Epoch 9/10\n",
      "84/84 [==============================] - 2s 18ms/step - loss: 0.3248 - categorical_accuracy: 0.9524\n",
      "24/24 [==============================] - 16s 660ms/step - loss: 0.3279 - categorical_accuracy: 0.9122 - val_loss: 0.3248 - val_categorical_accuracy: 0.9524\n",
      "Epoch 10/10\n",
      "84/84 [==============================] - 2s 18ms/step - loss: 0.2665 - categorical_accuracy: 0.9048\n",
      "24/24 [==============================] - 17s 695ms/step - loss: 0.3332 - categorical_accuracy: 0.8936 - val_loss: 0.2665 - val_categorical_accuracy: 0.9048\n"
     ]
    }
   ],
   "source": [
    "model = create_model()\n",
    "model.compile(\n",
    "      optimizer=tf.keras.optimizers.Adam(lr=1e-3),\n",
    "      loss='categorical_crossentropy',\n",
    "      metrics=['categorical_accuracy'])\n",
    "\n",
    "model.fit(\n",
    "    train_generator,\n",
    "    epochs=10,\n",
    "    validation_data=validation_generator,\n",
    "    validation_freq=1\n",
    ")\n",
    "\n",
    "model.save('model.h5', overwrite=True)"
   ]
  },
  {
   "cell_type": "code",
   "execution_count": 6,
   "metadata": {},
   "outputs": [
    {
     "name": "stdout",
     "output_type": "stream",
     "text": [
      "WARNING:tensorflow:From C:\\Users\\MikeEd\\Anaconda3\\lib\\site-packages\\tensorflow\\python\\ops\\resource_variable_ops.py:435: colocate_with (from tensorflow.python.framework.ops) is deprecated and will be removed in a future version.\n",
      "Instructions for updating:\n",
      "Colocations handled automatically by placer.\n",
      "WARNING:tensorflow:From C:\\Users\\MikeEd\\Anaconda3\\lib\\site-packages\\tensorflow\\python\\keras\\layers\\core.py:143: calling dropout (from tensorflow.python.ops.nn_ops) with keep_prob is deprecated and will be removed in a future version.\n",
      "Instructions for updating:\n",
      "Please use `rate` instead of `keep_prob`. Rate should be set to `rate = 1 - keep_prob`.\n",
      "WARNING:tensorflow:From C:\\Users\\MikeEd\\Anaconda3\\lib\\site-packages\\tensorflow\\python\\ops\\math_ops.py:3066: to_int32 (from tensorflow.python.ops.math_ops) is deprecated and will be removed in a future version.\n",
      "Instructions for updating:\n",
      "Use tf.cast instead.\n"
     ]
    }
   ],
   "source": [
    "model = tf.keras.models.load_model('model.h5')"
   ]
  },
  {
   "cell_type": "code",
   "execution_count": 21,
   "metadata": {},
   "outputs": [
    {
     "name": "stdout",
     "output_type": "stream",
     "text": [
      "Video Generated\n"
     ]
    }
   ],
   "source": [
    "import cv2\n",
    "import numpy as np\n",
    "#cap = cv2.VideoCapture(\"F:/!_MTECH/3rd sem/Deep-Learning-Push-Up-Counter-master/test_video.mov\")\n",
    "cap = cv2.VideoCapture(\"F:/!_MTECH/3rd sem/Deep-Learning-Push-Up-Counter-master/test2.mp4\")\n",
    "fourcc = cv2.VideoWriter_fourcc('M','J','P','G')\n",
    "out = cv2.VideoWriter('output_count.avi',fourcc, 20.0,(int(cap.get(3)),int(cap.get(4))))\n",
    "\n",
    "ret, frame1 = cap.read()\n",
    "prvs = cv2.cvtColor(frame1,cv2.COLOR_BGR2GRAY)\n",
    "hsv = np.zeros_like(frame1)\n",
    "hsv[...,1] = 255\n",
    "i= 0\n",
    "prediction_str = \"\"\n",
    "repetitions = 0\n",
    "up = 0\n",
    "down = 0\n",
    "no_move = 0\n",
    "current_move = 0\n",
    "initial = -1\n",
    "while(cap.isOpened()):\n",
    "    i+=1\n",
    "    \n",
    "    ret, frame2 = cap.read()\n",
    "    if not(ret): break\n",
    "    next = cv2.cvtColor(frame2,cv2.COLOR_BGR2GRAY)\n",
    "\n",
    "    flow = cv2.calcOpticalFlowFarneback(prvs,next, None, 0.5, 3, 15, 3, 5, 1.2, 0)\n",
    "\n",
    "    \n",
    "\n",
    "    mag, ang = cv2.cartToPolar(flow[...,0], flow[...,1])\n",
    "    hsv[...,0] = ang*180/np.pi/2\n",
    "    hsv[...,2] = cv2.normalize(mag,None,0,255,cv2.NORM_MINMAX)\n",
    "    rgb = cv2.cvtColor(hsv,cv2.COLOR_HSV2BGR)\n",
    "\n",
    "    image = cv2.resize(rgb, (64, 64))\n",
    "    image = image.reshape((1,) + image.shape)\n",
    "    image = image/255.0\n",
    "    prediction = np.argmax(model.predict(image), axis=-1)[0]\n",
    "    \n",
    "    if prediction == 0:\n",
    "        down +=1 \n",
    "        if down == 3:\n",
    "          if initial == -1:\n",
    "            initial = 0\n",
    "          if current_move == 2:\n",
    "            repetitions+=1\n",
    "          current_move = 0\n",
    "        elif down > 0:\n",
    "          up = 0\n",
    "          no_move = 0\n",
    "    elif prediction == 2:\n",
    "        up += 1\n",
    "        if up == 3 and initial != -1:\n",
    "          current_move = 2\n",
    "        elif up > 1:\n",
    "          down = 0 \n",
    "          no_move = 0\n",
    "    else:\n",
    "        no_move += 1\n",
    "        if no_move == 15:\n",
    "          current_move = 1\n",
    "        elif no_move > 10:\n",
    "          up = 0\n",
    "          down = 0 \n",
    "    font                   = cv2.FONT_HERSHEY_SIMPLEX\n",
    "    bottomLeftCornerOfText = (10,400)\n",
    "    fontScale              = 1\n",
    "    fontColor              = (255,255,255)\n",
    "    lineType               = 5\n",
    "    cv2.putText(frame2, \"Repetitions: \"+ str(repetitions),bottomLeftCornerOfText,font, fontScale,fontColor,lineType)\n",
    "    out.write(frame2)\n",
    "    prvs = next\n",
    "\n",
    "print(\"Video Generated\")\n",
    "out.release()\n",
    "cap.release()\n",
    "cv2.destroyAllWindows()"
   ]
  },
  {
   "cell_type": "code",
   "execution_count": null,
   "metadata": {},
   "outputs": [],
   "source": []
  },
  {
   "cell_type": "code",
   "execution_count": null,
   "metadata": {},
   "outputs": [],
   "source": []
  }
 ],
 "metadata": {
  "kernelspec": {
   "display_name": "Python 3",
   "language": "python",
   "name": "python3"
  },
  "language_info": {
   "codemirror_mode": {
    "name": "ipython",
    "version": 3
   },
   "file_extension": ".py",
   "mimetype": "text/x-python",
   "name": "python",
   "nbconvert_exporter": "python",
   "pygments_lexer": "ipython3",
   "version": "3.6.5"
  }
 },
 "nbformat": 4,
 "nbformat_minor": 4
}
