{
  "nbformat": 4,
  "nbformat_minor": 0,
  "metadata": {
    "colab": {
      "name": "MNIST Classification 2018.ipynb",
      "provenance": []
    },
    "kernelspec": {
      "name": "python3",
      "display_name": "Python 3"
    }
  },
  "cells": [
    {
      "cell_type": "code",
      "metadata": {
        "id": "YFA_b7ihhuEO",
        "colab": {
          "base_uri": "https://localhost:8080/"
        },
        "outputId": "4b82621a-3a66-4c0d-c313-1a177b73b4e1"
      },
      "source": [
        "\n",
        "import tensorflow as tf\n",
        "from tensorflow import keras\n",
        "import numpy as np\n",
        "from matplotlib import pyplot as plt\n",
        "\n",
        "print(\"Tensorflow version{}\".format(tf.__version__))\n",
        "print(\"Eager mode: \", tf.executing_eagerly())\n",
        "print(\" Is GPU avilable: \", tf.config.list_physical_devices(\"GPU\"))\n"
      ],
      "execution_count": null,
      "outputs": [
        {
          "output_type": "stream",
          "text": [
            "Tensorflow version2.3.0\n",
            "Eager mode:  True\n",
            " Is GPU avilable:  []\n"
          ],
          "name": "stdout"
        }
      ]
    },
    {
      "cell_type": "markdown",
      "metadata": {
        "id": "07tJAsG_nUq7"
      },
      "source": [
        ""
      ]
    },
    {
      "cell_type": "code",
      "metadata": {
        "id": "AGo7vcr-lgml"
      },
      "source": [
        "# Data loadng and preprocessing\n",
        "mnist = tf.keras.datasets.mnist\n",
        "(image_train, label_train),(image_test, label_test) = mnist.load_data()\n",
        "class_names = [\"Zero\",\"one\",\"two\",\"three\",'four','five','six',\"seven\",\"eight\",\"nine\"]"
      ],
      "execution_count": null,
      "outputs": []
    },
    {
      "cell_type": "code",
      "metadata": {
        "id": "4PANiwa4sYEA",
        "colab": {
          "base_uri": "https://localhost:8080/"
        },
        "outputId": "81a2e355-0db2-42cd-91e9-7b1e30047a5c"
      },
      "source": [
        "print(\"Data type\", type(image_train))\n",
        "print(image_train.shape)\n",
        "print(image_test.shape)\n",
        "print(label_train.shape)\n",
        "print(label_test.shape)\n",
        "np.unique(label_train)"
      ],
      "execution_count": null,
      "outputs": [
        {
          "output_type": "stream",
          "text": [
            "Data type <class 'numpy.ndarray'>\n",
            "(60000, 28, 28)\n",
            "(10000, 28, 28)\n",
            "(60000,)\n",
            "(10000,)\n"
          ],
          "name": "stdout"
        },
        {
          "output_type": "execute_result",
          "data": {
            "text/plain": [
              "array([0, 1, 2, 3, 4, 5, 6, 7, 8, 9], dtype=uint8)"
            ]
          },
          "metadata": {
            "tags": []
          },
          "execution_count": 4
        }
      ]
    },
    {
      "cell_type": "code",
      "metadata": {
        "id": "3b1V67NZs06z",
        "colab": {
          "base_uri": "https://localhost:8080/",
          "height": 278
        },
        "outputId": "ed497fcd-effa-4460-afac-797beccb3d8d"
      },
      "source": [
        "plt.figure()\n",
        "plt.imshow(image_train[0])\n",
        "plt.colorbar()\n",
        "plt.xlabel(\"Class: {} \".format(label_train[0]))\n",
        "plt.show()"
      ],
      "execution_count": null,
      "outputs": [
        {
          "output_type": "display_data",
          "data": {
            "image/png": "[encoded data removed]",
            "text/plain": [
              "<Figure size 432x288 with 2 Axes>"
            ]
          },
          "metadata": {
            "tags": [],
            "needs_background": "light"
          }
        }
      ]
    },
    {
      "cell_type": "code",
      "metadata": {
        "id": "JxcaN4WgvrPx"
      },
      "source": [
        "# Data Preprocessing\n",
        "\n",
        "#Normalization\n",
        "image_train = image_train/255.0\n",
        "image_test = image_test/255.0"
      ],
      "execution_count": null,
      "outputs": []
    },
    {
      "cell_type": "code",
      "metadata": {
        "id": "4tXCSwqpyyoa"
      },
      "source": [
        "plt.figure()\n",
        "plt.imshow(image_train[0])\n",
        "plt.colorbar() # check color bar after normalization.\n",
        "plt.xlabel(\"Class: {}\".format(label_train[0]))\n",
        "plt.show()"
      ],
      "execution_count": null,
      "outputs": []
    },
    {
      "cell_type": "code",
      "metadata": {
        "id": "Nm74fxVvzXd1"
      },
      "source": [
        "# NN MODEL\n",
        "model = keras.models  .Sequential([\n",
        "  keras.layers.Flatten(input_shape=(28,28), name=\"Flat1\"),\n",
        "  keras.layers.Dense(100, activation=tf.nn.relu,name=\"dense1\"),\n",
        "  keras.layers.Dropout(0.2, name=\"drop_out\"),\n",
        "  keras.layers.Dense(100, activation=tf.nn.relu,name=\"dense2\"),\n",
        "  keras.layers.Dropout(0.2, name=\"drop_out_2\"),\n",
        "  keras.layers.Dense(10,activation=tf.nn.softmax,name=\"dense3\")\n",
        "])"
      ],
      "execution_count": null,
      "outputs": []
    },
    {
      "cell_type": "code",
      "metadata": {
        "id": "e-SwLKbf5gJz",
        "colab": {
          "base_uri": "https://localhost:8080/"
        },
        "outputId": "3a014118-395b-4d9b-9b05-3408ce67562c"
      },
      "source": [
        "model.summary()"
      ],
      "execution_count": null,
      "outputs": [
        {
          "output_type": "stream",
          "text": [
            "Model: \"sequential_1\"\n",
            "_________________________________________________________________\n",
            "Layer (type)                 Output Shape              Param #   \n",
            "=================================================================\n",
            "Flat1 (Flatten)              (None, 784)               0         \n",
            "_________________________________________________________________\n",
            "dense1 (Dense)               (None, 100)               78500     \n",
            "_________________________________________________________________\n",
            "drop_out (Dropout)           (None, 100)               0         \n",
            "_________________________________________________________________\n",
            "dense2 (Dense)               (None, 100)               10100     \n",
            "_________________________________________________________________\n",
            "drop_out_2 (Dropout)         (None, 100)               0         \n",
            "_________________________________________________________________\n",
            "dense3 (Dense)               (None, 10)                1010      \n",
            "=================================================================\n",
            "Total params: 89,610\n",
            "Trainable params: 89,610\n",
            "Non-trainable params: 0\n",
            "_________________________________________________________________\n"
          ],
          "name": "stdout"
        }
      ]
    },
    {
      "cell_type": "code",
      "metadata": {
        "id": "1NiCtUa5Eo2p",
        "colab": {
          "base_uri": "https://localhost:8080/",
          "height": 661
        },
        "outputId": "a046b1d4-630e-4ada-98a8-5614abff1586"
      },
      "source": [
        "# Show created Model as Graph\n",
        "\n",
        "tf.keras.utils.plot_model(\n",
        "    model, to_file=\"model.png\", show_shapes = False, show_layer_names= True,\n",
        "    rankdir=\"TB\", expand_nested=False, dpi=96\n",
        ")"
      ],
      "execution_count": null,
      "outputs": [
        {
          "output_type": "execute_result",
          "data": {
            "image/png": "[encoded data removed]",
            "text/plain": [
              "<IPython.core.display.Image object>"
            ]
          },
          "metadata": {
            "tags": []
          },
          "execution_count": 27
        }
      ]
    },
    {
      "cell_type": "code",
      "metadata": {
        "id": "CLoVVzuHGIh_"
      },
      "source": [
        "model.compile(optimizer=\"adam\",\n",
        "              loss = \"sparse_categorical_crossentropy\",\n",
        "              metrics=['accuracy'])"
      ],
      "execution_count": null,
      "outputs": []
    },
    {
      "cell_type": "code",
      "metadata": {
        "id": "d5mCxJRHHi3O",
        "colab": {
          "base_uri": "https://localhost:8080/"
        },
        "outputId": "1766cbb5-602d-4221-c2a4-c9af6a6765fa"
      },
      "source": [
        "model.fit(image_train, label_train,epochs=28)"
      ],
      "execution_count": null,
      "outputs": [
        {
          "output_type": "stream",
          "text": [
            "Epoch 1/28\n",
            "1875/1875 [==============================] - 4s 2ms/step - loss: 2.3007 - accuracy: 0.6248\n",
            "Epoch 2/28\n",
            "1875/1875 [==============================] - 4s 2ms/step - loss: 0.7998 - accuracy: 0.7879\n",
            "Epoch 3/28\n",
            "1875/1875 [==============================] - 4s 2ms/step - loss: 0.6058 - accuracy: 0.8397\n",
            "Epoch 4/28\n",
            "1875/1875 [==============================] - 4s 2ms/step - loss: 0.4966 - accuracy: 0.8685\n",
            "Epoch 5/28\n",
            "1875/1875 [==============================] - 4s 2ms/step - loss: 0.4139 - accuracy: 0.8880\n",
            "Epoch 6/28\n",
            "1875/1875 [==============================] - 4s 2ms/step - loss: 0.3728 - accuracy: 0.8988\n",
            "Epoch 7/28\n",
            "1875/1875 [==============================] - 4s 2ms/step - loss: 0.3549 - accuracy: 0.9039\n",
            "Epoch 8/28\n",
            "1875/1875 [==============================] - 4s 2ms/step - loss: 0.3333 - accuracy: 0.9100\n",
            "Epoch 9/28\n",
            "1875/1875 [==============================] - 4s 2ms/step - loss: 0.3276 - accuracy: 0.9119\n",
            "Epoch 10/28\n",
            "1875/1875 [==============================] - 4s 2ms/step - loss: 0.3150 - accuracy: 0.9172\n",
            "Epoch 11/28\n",
            "1875/1875 [==============================] - 4s 2ms/step - loss: 0.2957 - accuracy: 0.9203\n",
            "Epoch 12/28\n",
            "1875/1875 [==============================] - 4s 2ms/step - loss: 0.2870 - accuracy: 0.9248\n",
            "Epoch 13/28\n",
            "1875/1875 [==============================] - 4s 2ms/step - loss: 0.2847 - accuracy: 0.9251\n",
            "Epoch 14/28\n",
            "1875/1875 [==============================] - 4s 2ms/step - loss: 0.2768 - accuracy: 0.9257\n",
            "Epoch 15/28\n",
            "1875/1875 [==============================] - 4s 2ms/step - loss: 0.2735 - accuracy: 0.9270\n",
            "Epoch 16/28\n",
            "1875/1875 [==============================] - 4s 2ms/step - loss: 0.2648 - accuracy: 0.9301\n",
            "Epoch 17/28\n",
            "1875/1875 [==============================] - 4s 2ms/step - loss: 0.2663 - accuracy: 0.9301\n",
            "Epoch 18/28\n",
            "1875/1875 [==============================] - 4s 2ms/step - loss: 0.2534 - accuracy: 0.9336\n",
            "Epoch 19/28\n",
            "1875/1875 [==============================] - 4s 2ms/step - loss: 0.2624 - accuracy: 0.9311\n",
            "Epoch 20/28\n",
            "1875/1875 [==============================] - 4s 2ms/step - loss: 0.2590 - accuracy: 0.9329\n",
            "Epoch 21/28\n",
            "1875/1875 [==============================] - 4s 2ms/step - loss: 0.2502 - accuracy: 0.9337\n",
            "Epoch 22/28\n",
            "1875/1875 [==============================] - 4s 2ms/step - loss: 0.2469 - accuracy: 0.9363\n",
            "Epoch 23/28\n",
            "1875/1875 [==============================] - 4s 2ms/step - loss: 0.2499 - accuracy: 0.9344\n",
            "Epoch 24/28\n",
            "1875/1875 [==============================] - 4s 2ms/step - loss: 0.2414 - accuracy: 0.9360\n",
            "Epoch 25/28\n",
            "1875/1875 [==============================] - 4s 2ms/step - loss: 0.2516 - accuracy: 0.9351\n",
            "Epoch 26/28\n",
            "1875/1875 [==============================] - 4s 2ms/step - loss: 0.2445 - accuracy: 0.9375\n",
            "Epoch 27/28\n",
            "1875/1875 [==============================] - 4s 2ms/step - loss: 0.2399 - accuracy: 0.9380\n",
            "Epoch 28/28\n",
            "1875/1875 [==============================] - 4s 2ms/step - loss: 0.2419 - accuracy: 0.9376\n"
          ],
          "name": "stdout"
        },
        {
          "output_type": "execute_result",
          "data": {
            "text/plain": [
              "<tensorflow.python.keras.callbacks.History at 0x7f5a2fce06a0>"
            ]
          },
          "metadata": {
            "tags": []
          },
          "execution_count": 29
        }
      ]
    },
    {
      "cell_type": "code",
      "metadata": {
        "id": "oW0hzWEZIB7c",
        "colab": {
          "base_uri": "https://localhost:8080/"
        },
        "outputId": "20b46257-9b3f-42a7-e80a-1dd59793bcb9"
      },
      "source": [
        "test_loss, test_acc = model.evaluate(image_test,label_test)\n",
        "print(\"Test accuracy: \",test_acc)"
      ],
      "execution_count": null,
      "outputs": [
        {
          "output_type": "stream",
          "text": [
            "313/313 [==============================] - 0s 1ms/step - loss: 0.2210 - accuracy: 0.9574\n",
            "Test accuracy:  0.9574000239372253\n"
          ],
          "name": "stdout"
        }
      ]
    },
    {
      "cell_type": "code",
      "metadata": {
        "id": "J2OruhJDKfiK"
      },
      "source": [
        ""
      ],
      "execution_count": null,
      "outputs": []
    }
  ]
}